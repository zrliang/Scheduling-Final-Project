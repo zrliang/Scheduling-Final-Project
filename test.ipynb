{
 "metadata": {
  "language_info": {
   "codemirror_mode": {
    "name": "ipython",
    "version": 3
   },
   "file_extension": ".py",
   "mimetype": "text/x-python",
   "name": "python",
   "nbconvert_exporter": "python",
   "pygments_lexer": "ipython3",
   "version": "3.8.3-final"
  },
  "orig_nbformat": 2,
  "kernelspec": {
   "name": "python3",
   "display_name": "Python 3.8.3 64-bit",
   "metadata": {
    "interpreter": {
     "hash": "34daf7430057d877556c3ea61e0ffd3d419a1a15f02d558c0bc9c0c22aa563a0"
    }
   }
  }
 },
 "nbformat": 4,
 "nbformat_minor": 2,
 "cells": [
  {
   "cell_type": "code",
   "execution_count": 189,
   "metadata": {},
   "outputs": [
    {
     "output_type": "stream",
     "name": "stdout",
     "text": [
      "[6, 6, 6, 6, 6]\n"
     ]
    }
   ],
   "source": [
    "import random\n",
    "from copy import deepcopy\n",
    "\n",
    "parent1=[6,6,6,6,6,3,5,4,2,1]\n",
    "parent2=[6,6,6,6,6,4,3,5,1,2]\n",
    "\n",
    "child_O1= deepcopy(parent1[5:])\n",
    "child_O2= deepcopy(parent2[5:])\n",
    "\n",
    "allset=set([i+1 for i in range(5)])\n",
    "size=range(1,5+1) \n",
    "choosenum= random.randrange(1, 5, 1)\n",
    "jobset1=set(random.sample(size,choosenum)) \n",
    "jobset2=jobset1 ^ allset\n",
    "\n",
    "for i in range(5):\n",
    "    if child_O1[i] not in jobset1:\n",
    "        child_O1[i]=0\n",
    "    if child_O2[i] not in jobset1:\n",
    "        child_O2[i]=0\n",
    "\n",
    "c1=[parent2[5:][i] for i in range(5) if parent2[5:][i] in jobset2]\n",
    "c2=[parent1[5:][i] for i in range(5) if parent1[5:][i] in jobset2]\n",
    "\n",
    "for i in range(len(jobset2)):\n",
    "    child_O1[child_O1.index(0)]=c1[i]\n",
    "    child_O2[child_O2.index(0)]=c2[i]\n",
    "\n",
    "print(child_O1)\n"
   ]
  },
  {
   "cell_type": "code",
   "execution_count": 197,
   "metadata": {},
   "outputs": [
    {
     "output_type": "stream",
     "name": "stdout",
     "text": [
      "[10, 6, 6, 8, 6]\n[6, 3, 9, 2, 6]\n"
     ]
    }
   ],
   "source": [
    "import random\n",
    "from copy import deepcopy\n",
    "\n",
    "parent1=[6,3,6,8,6,3,5,4,2,1]\n",
    "parent2=[10,6,9,2,6,4,3,5,1,2]\n",
    "\n",
    "size=range(1,5 +1)  \n",
    "\n",
    "CutPoint=random.sample(size, 2) \n",
    "CutPoint.sort()\n",
    "\n",
    "child1= deepcopy(parent1[:5])\n",
    "child2= deepcopy(parent2[:5])\n",
    "\n",
    "child1[CutPoint[0]-1:CutPoint[1]]=parent2[CutPoint[0]-1:CutPoint[1]]\n",
    "child2[CutPoint[0]-1:CutPoint[1]]=parent1[CutPoint[0]-1:CutPoint[1]]\n",
    "\n",
    "print(child1)\n",
    "print(child2)"
   ]
  },
  {
   "cell_type": "code",
   "execution_count": 198,
   "metadata": {},
   "outputs": [
    {
     "output_type": "execute_result",
     "data": {
      "text/plain": [
       "[1, 3, 5, 6, 7, 8, 8]"
      ]
     },
     "metadata": {},
     "execution_count": 198
    }
   ],
   "source": [
    "a=[1,3,5,6]\n",
    "b=[7,8,8]\n",
    "a.extend(b)\n",
    "a"
   ]
  },
  {
   "cell_type": "code",
   "execution_count": 254,
   "metadata": {},
   "outputs": [
    {
     "output_type": "stream",
     "name": "stdout",
     "text": [
      "[0, 2]\n6\n6\n"
     ]
    }
   ],
   "source": [
    "parent1=[6,3,6,8,6,3,5,4,2,1]\n",
    "#MS\n",
    "jobs_size = 5\n",
    "canRunMachine_num = 8\n",
    "\n",
    "r= int(jobs_size/2)\n",
    "size=range(0,jobs_size)  \n",
    "choose_gene=random.sample(size, r) \n",
    "choose_gene.sort()\n",
    "print(choose_gene)\n",
    "\n",
    "for i in range(len(choose_gene)):\n",
    "\n",
    "    print(parent1[choose_gene[i]])\n",
    "\n",
    "\n",
    "#OS\n",
    "\n"
   ]
  },
  {
   "cell_type": "code",
   "execution_count": 256,
   "metadata": {},
   "outputs": [
    {
     "output_type": "execute_result",
     "data": {
      "text/plain": [
       "[18, 14, 17, 10, 19, 13, 12, 16, 11, 15]"
      ]
     },
     "metadata": {},
     "execution_count": 256
    }
   ],
   "source": [
    "canRunMachine_size = 10\n",
    "canRunMachine_size=range(canRunMachine_size,canRunMachine_size*2)\n",
    "new_gene = new_gene=random.sample(canRunMachine_size, 10)\n",
    "new_gene"
   ]
  },
  {
   "cell_type": "code",
   "execution_count": 258,
   "metadata": {},
   "outputs": [
    {
     "output_type": "stream",
     "name": "stdout",
     "text": [
      "[1, 2, 4, 5]\n[4, 2, 1, 5]\n"
     ]
    }
   ],
   "source": [
    "a = [1,2,4,5]\n",
    "print(a)\n",
    "a[0], a[2] = a[2], a[0]\n",
    "print(a)"
   ]
  },
  {
   "cell_type": "code",
   "execution_count": null,
   "metadata": {},
   "outputs": [],
   "source": []
  }
 ]
}