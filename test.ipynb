{
 "metadata": {
  "language_info": {
   "codemirror_mode": {
    "name": "ipython",
    "version": 3
   },
   "file_extension": ".py",
   "mimetype": "text/x-python",
   "name": "python",
   "nbconvert_exporter": "python",
   "pygments_lexer": "ipython3",
   "version": "3.8.3-final"
  },
  "orig_nbformat": 2,
  "kernelspec": {
   "name": "python3",
   "display_name": "Python 3.8.3 64-bit",
   "metadata": {
    "interpreter": {
     "hash": "34daf7430057d877556c3ea61e0ffd3d419a1a15f02d558c0bc9c0c22aa563a0"
    }
   }
  }
 },
 "nbformat": 4,
 "nbformat_minor": 2,
 "cells": [
  {
   "cell_type": "code",
   "execution_count": 183,
   "metadata": {},
   "outputs": [
    {
     "output_type": "stream",
     "name": "stdout",
     "text": [
      "[3, 5, 4, 2, 1]\n[]\n"
     ]
    }
   ],
   "source": [
    "import random\n",
    "from copy import deepcopy\n",
    "\n",
    "parent1=[6,6,6,6,6,3,5,4,2,1]\n",
    "parent2=[6,6,6,6,6,4,3,5,1,2]\n",
    "\n",
    "child1= deepcopy(parent1[5:])\n",
    "child2= deepcopy(parent2[5:])\n",
    "\n",
    "print(child1)\n",
    "\n",
    "allset=set([i+1 for i in range(5)])\n",
    "size=range(1,5+1) \n",
    "choosenum= random.randrange(1, 5, 1)\n",
    "jobset1=set(random.sample(size,choosenum)) \n",
    "jobset2=jobset1 ^ allset\n",
    "\n",
    "for i in range(5):\n",
    "    if child1[i] not in jobset1:\n",
    "        child1[i]=0\n",
    "    if child2[i] not in jobset1:\n",
    "        child2[i]=0\n",
    "\n",
    "c1=[parent2[5:][i] for i in range(5) if parent2[i] in jobset2]\n",
    "c2=[parent1[5:][i] for i in range(5) if parent1[i] in jobset2]\n",
    "print(c1)\n",
    "# for i in range(len(jobset2)):\n",
    "#     child1[child1.index(0)]=c1[i]\n",
    "#     child2[child2.index(0)]=c2[i]\n",
    "\n"
   ]
  },
  {
   "cell_type": "code",
   "execution_count": null,
   "metadata": {},
   "outputs": [],
   "source": []
  }
 ]
}